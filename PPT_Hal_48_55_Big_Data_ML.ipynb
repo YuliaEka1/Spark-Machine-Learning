{
  "nbformat": 4,
  "nbformat_minor": 0,
  "metadata": {
    "colab": {
      "provenance": []
    },
    "kernelspec": {
      "name": "python3",
      "display_name": "Python 3"
    },
    "language_info": {
      "name": "python"
    }
  },
  "cells": [
    {
      "cell_type": "code",
      "execution_count": 1,
      "metadata": {
        "colab": {
          "base_uri": "https://localhost:8080/"
        },
        "id": "MH79b7a3bxko",
        "outputId": "6ea7858c-6c7b-4155-cad4-26af3baf289a"
      },
      "outputs": [
        {
          "output_type": "stream",
          "name": "stdout",
          "text": [
            "Mounted at /content/drive\n"
          ]
        }
      ],
      "source": [
        "from google.colab import drive\n",
        "drive.mount('/content/drive')"
      ]
    },
    {
      "cell_type": "code",
      "source": [
        "# install pyspark\n",
        "!pip install pyspark"
      ],
      "metadata": {
        "colab": {
          "base_uri": "https://localhost:8080/"
        },
        "id": "ikFSG44Yb4oj",
        "outputId": "a2bca430-2d70-4df3-9488-55ceec9328dc"
      },
      "execution_count": 2,
      "outputs": [
        {
          "output_type": "stream",
          "name": "stdout",
          "text": [
            "Looking in indexes: https://pypi.org/simple, https://us-python.pkg.dev/colab-wheels/public/simple/\n",
            "Collecting pyspark\n",
            "  Downloading pyspark-3.4.0.tar.gz (310.8 MB)\n",
            "\u001b[2K     \u001b[90m━━━━━━━━━━━━━━━━━━━━━━━━━━━━━━━━━━━━━━━\u001b[0m \u001b[32m310.8/310.8 MB\u001b[0m \u001b[31m4.4 MB/s\u001b[0m eta \u001b[36m0:00:00\u001b[0m\n",
            "\u001b[?25h  Preparing metadata (setup.py) ... \u001b[?25l\u001b[?25hdone\n",
            "Requirement already satisfied: py4j==0.10.9.7 in /usr/local/lib/python3.10/dist-packages (from pyspark) (0.10.9.7)\n",
            "Building wheels for collected packages: pyspark\n",
            "  Building wheel for pyspark (setup.py) ... \u001b[?25l\u001b[?25hdone\n",
            "  Created wheel for pyspark: filename=pyspark-3.4.0-py2.py3-none-any.whl size=311317130 sha256=f9a2c837751fc8be76bacd9af946977f24266ebf952af16008aa12ca7749ceb5\n",
            "  Stored in directory: /root/.cache/pip/wheels/7b/1b/4b/3363a1d04368e7ff0d408e57ff57966fcdf00583774e761327\n",
            "Successfully built pyspark\n",
            "Installing collected packages: pyspark\n",
            "Successfully installed pyspark-3.4.0\n"
          ]
        }
      ]
    },
    {
      "cell_type": "code",
      "source": [
        "import pyspark\n",
        "from pyspark.sql import SparkSession"
      ],
      "metadata": {
        "id": "w-VR4PmUcDWX"
      },
      "execution_count": 3,
      "outputs": []
    },
    {
      "cell_type": "code",
      "source": [
        "spark = SparkSession.builder.appName('Movie Recommendation').getOrCreate()"
      ],
      "metadata": {
        "id": "0lMhqjgZcVZK"
      },
      "execution_count": 4,
      "outputs": []
    },
    {
      "cell_type": "code",
      "source": [
        "# PPT Hal 48\n",
        "\n",
        "from pyspark.mllib.recommendation import Rating\n",
        "from pyspark.mllib.recommendation import ALS\n",
        "\n",
        "raw = spark.sparkContext.textFile(\"/content/drive/MyDrive/Colab Notebooks/Big Data/ratings.dat\")\n",
        "\n",
        "mydata = [(2, 0.01)]\n",
        "\n",
        "mydatardd = spark.sparkContext.parallelize(mydata).map(lambda x: Rating(0, x[0], x[1]))\n",
        "\n",
        "def parseRating(str):\n",
        "    fields = str.split(\"::\")\n",
        "    assert(len(fields) == 4)\n",
        "    return Rating(int(fields[0]), int(fields[1]), float(fields[2]))\n",
        "\n",
        "ratings = raw.map(parseRating)\n",
        "totalratings = ratings.union(mydatardd)\n",
        "model = ALS.train(totalratings, rank=8, iterations=5, lambda_=1.0)\n",
        "products = model.recommendProducts(1, 10)\n",
        "\n",
        "products"
      ],
      "metadata": {
        "colab": {
          "base_uri": "https://localhost:8080/"
        },
        "id": "2g3FikXPcZkl",
        "outputId": "e77e874e-1b09-4fe3-ef58-6443f11c1278"
      },
      "execution_count": 6,
      "outputs": [
        {
          "output_type": "execute_result",
          "data": {
            "text/plain": [
              "[Rating(user=1, product=3382, rating=4.458264148659185),\n",
              " Rating(user=1, product=989, rating=4.017793672335513),\n",
              " Rating(user=1, product=557, rating=3.901212818979981),\n",
              " Rating(user=1, product=787, rating=3.8967965576029338),\n",
              " Rating(user=1, product=3233, rating=3.895499999297267),\n",
              " Rating(user=1, product=1830, rating=3.895266674658365),\n",
              " Rating(user=1, product=3607, rating=3.843535739112153),\n",
              " Rating(user=1, product=3172, rating=3.8214525396462644),\n",
              " Rating(user=1, product=3656, rating=3.7857005681774876),\n",
              " Rating(user=1, product=2503, rating=3.7854732247306533)]"
            ]
          },
          "metadata": {},
          "execution_count": 6
        }
      ]
    },
    {
      "cell_type": "code",
      "source": [
        "# PPT Hal 49\n",
        "\n",
        "from pyspark.mllib.linalg import Vectors\n",
        "from pyspark.mllib.stat import Statistics\n",
        "\n",
        "vectorRDD = totalratings.map(lambda rating: Vectors.dense(rating.user, rating.product, rating.rating))\n",
        "summary = Statistics.colStats(vectorRDD)\n",
        "\n",
        "print(summary.mean())\n",
        "print(summary.variance())\n",
        "print(summary.numNonzeros())"
      ],
      "metadata": {
        "colab": {
          "base_uri": "https://localhost:8080/"
        },
        "id": "kaquSv31cjAl",
        "outputId": "310860e5-c1ff-493e-c1f5-ba357290b936"
      },
      "execution_count": 7,
      "outputs": [
        {
          "output_type": "stream",
          "name": "stdout",
          "text": [
            "[3024.50932404 1865.53803501    3.58156088]\n",
            "[2.98741660e+06 1.20130746e+06 1.24792804e+00]\n",
            "[1000209. 1000210. 1000210.]\n"
          ]
        }
      ]
    },
    {
      "cell_type": "code",
      "source": [
        "# PPT Hal 52\n",
        "\n",
        "from pyspark.ml.clustering import KMeans\n",
        "from pyspark.ml.linalg import Vectors\n",
        "\n",
        "data = spark.read.text(\"/content/drive/MyDrive/Colab Notebooks/Big Data/kmeans_data.txt\")\n",
        "parsedData = data.rdd.map(lambda s: Vectors.dense([float(x) for x in s.value.split(' ')]))\n",
        "\n",
        "# Convert RDD to DataFrame\n",
        "parsedData = parsedData.map(lambda x: (x, )).toDF([\"features\"])\n",
        "\n",
        "# Cluster the data into two classes using KMeans\n",
        "numClusters = 2\n",
        "numIterations = 20\n",
        "kmeans = KMeans().setK(numClusters).setMaxIter(numIterations)\n",
        "model = kmeans.fit(parsedData)\n",
        "\n",
        "# Predict the cluster for each data point\n",
        "predictions = model.transform(parsedData)\n",
        "\n",
        "# Compute Within Set Sum of Squared Errors\n",
        "wssse = model.summary.trainingCost\n",
        "print(\"Within Set Sum of Squared Errors = \" + str(wssse))\n",
        "\n",
        "# Print the predicted cluster for each data point\n",
        "predictions.select(\"prediction\").show()"
      ],
      "metadata": {
        "colab": {
          "base_uri": "https://localhost:8080/"
        },
        "id": "l5cMNhQPc6IR",
        "outputId": "95c3d53d-7979-428a-a445-054e5be1dce2"
      },
      "execution_count": 8,
      "outputs": [
        {
          "output_type": "stream",
          "name": "stdout",
          "text": [
            "Within Set Sum of Squared Errors = 0.1199999999999996\n",
            "+----------+\n",
            "|prediction|\n",
            "+----------+\n",
            "|         0|\n",
            "|         0|\n",
            "|         0|\n",
            "|         1|\n",
            "|         1|\n",
            "|         1|\n",
            "+----------+\n",
            "\n"
          ]
        }
      ]
    },
    {
      "cell_type": "code",
      "source": [
        "# PPT Hal 53-54\n",
        "from pyspark.mllib.clustering import KMeans, KMeansModel\n",
        "from numpy import array\n",
        "from math import sqrt\n",
        "\n",
        "\n",
        "# Load and parse the data\n",
        "data = spark.sparkContext.textFile(\"/content/drive/MyDrive/Colab Notebooks/Big Data/kmeans_data.txt\")\n",
        "parsedData = data.map(lambda line: array([float(x) for x in line.split(' ')]))\n",
        "\n",
        "# Build the model (cluster the data)\n",
        "clusters = KMeans.train(parsedData, k=2, maxIterations=10, initializationMode=\"random\")\n",
        "\n",
        "# Evaluate clustering by computing Within Set Sum of Squared Errors\n",
        "def error(point):\n",
        "    center = clusters.centers[clusters.predict(point)]\n",
        "    return sqrt(sum([x ** 2 for x in (point - center)]))\n",
        "\n",
        "WSSSE = parsedData.map(lambda point: error(point)).reduce(lambda x, y: x + y)\n",
        "\n",
        "print(\"Within Set Sum of Squared Error = \" + str(WSSSE))\n",
        "\n",
        "# Save and load model\n",
        "clusters.save(spark.sparkContext, \"/content/yulia_path\")\n",
        "sameModel = KMeansModel.load(spark.sparkContext, \"/content/yulia_path\")"
      ],
      "metadata": {
        "colab": {
          "base_uri": "https://localhost:8080/"
        },
        "id": "mDW_Z_lodGqn",
        "outputId": "d95b832f-8927-48af-f18d-218fb9d63270"
      },
      "execution_count": 9,
      "outputs": [
        {
          "output_type": "stream",
          "name": "stdout",
          "text": [
            "Within Set Sum of Squared Error = 0.6928203230275529\n"
          ]
        }
      ]
    },
    {
      "cell_type": "code",
      "source": [],
      "metadata": {
        "id": "blVRKz7-dxFi"
      },
      "execution_count": null,
      "outputs": []
    }
  ]
}